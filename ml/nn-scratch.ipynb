{
 "cells": [
  {
   "cell_type": "code",
   "execution_count": 2,
   "id": "91f3d156",
   "metadata": {},
   "outputs": [],
   "source": [
    "import numpy as np\n",
    "from sklearn.datasets import fetch_openml\n",
    "from sklearn.model_selection import train_test_split\n",
    "import matplotlib.pyplot as plt"
   ]
  },
  {
   "cell_type": "code",
   "execution_count": 3,
   "id": "7c301573",
   "metadata": {},
   "outputs": [],
   "source": [
    "mnist = fetch_openml('mnist_784', version=1, as_frame=False)\n",
    "\n",
    "# The data is stored as a NumPy array\n",
    "X, y = mnist[\"data\"], mnist[\"target\"]\n",
    "\n"
   ]
  },
  {
   "cell_type": "code",
   "execution_count": 4,
   "id": "d9844924",
   "metadata": {},
   "outputs": [],
   "source": [
    "def one_hot_encode(y, num_classes):\n",
    "    return np.eye(num_classes)[y]"
   ]
  },
  {
   "cell_type": "code",
   "execution_count": 5,
   "id": "d6019ba4",
   "metadata": {},
   "outputs": [],
   "source": [
    "def load_batch(X,y,batch_size=64):\n",
    "    n = X.shape[0]\n",
    "\n",
    "    for i in range(0,n,batch_size):\n",
    "        begin,end = i, min(i + batch_size,n)\n",
    "\n",
    "        if y is not None:\n",
    "            yield X[begin:end],y[begin:end]\n",
    "\n",
    "        else:\n",
    "            yield X[begin:end]\n",
    "    "
   ]
  },
  {
   "cell_type": "markdown",
   "id": "d41a90a0",
   "metadata": {},
   "source": []
  },
  {
   "cell_type": "code",
   "execution_count": 6,
   "id": "c5acaa7a",
   "metadata": {},
   "outputs": [],
   "source": [
    "X_train, X_test, y_train, y_test = train_test_split(X, y, test_size=0.2, random_state=42, shuffle=True)"
   ]
  },
  {
   "cell_type": "code",
   "execution_count": 7,
   "id": "46822744",
   "metadata": {},
   "outputs": [
    {
     "data": {
      "text/plain": [
       "(14000, 784)"
      ]
     },
     "execution_count": 7,
     "metadata": {},
     "output_type": "execute_result"
    }
   ],
   "source": [
    "X_train,X_test = X_train/255.0,X_test/255.0\n",
    "X_test.shape"
   ]
  },
  {
   "cell_type": "code",
   "execution_count": null,
   "id": "3a3a466a",
   "metadata": {},
   "outputs": [],
   "source": []
  },
  {
   "cell_type": "code",
   "execution_count": 8,
   "id": "00b3e5d6",
   "metadata": {},
   "outputs": [],
   "source": [
    "def to_categorical(x, n_col=None):\n",
    "    if not n_col:\n",
    "        n_col = np.max(x) + 1\n",
    "        one_hot = np.zeros ((x.shape[0], n_col))\n",
    "        one_hot [np. arange (x.shape[0]), x] = 1\n",
    "        return one_hot"
   ]
  },
  {
   "cell_type": "code",
   "execution_count": 9,
   "id": "9fe020f0",
   "metadata": {},
   "outputs": [],
   "source": [
    "y_train = to_categorical(y_train.astype(\"int\"))"
   ]
  },
  {
   "cell_type": "code",
   "execution_count": 10,
   "id": "a7945e89",
   "metadata": {},
   "outputs": [],
   "source": [
    "y_test = to_categorical(y_test.astype(\"int\"))"
   ]
  },
  {
   "cell_type": "code",
   "execution_count": 11,
   "id": "30359c16",
   "metadata": {},
   "outputs": [
    {
     "data": {
      "text/plain": [
       "array([[0., 0., 0., ..., 0., 0., 0.],\n",
       "       [0., 0., 0., ..., 0., 0., 0.],\n",
       "       [0., 0., 0., ..., 0., 1., 0.],\n",
       "       ...,\n",
       "       [0., 1., 0., ..., 0., 0., 0.],\n",
       "       [1., 0., 0., ..., 0., 0., 0.],\n",
       "       [1., 0., 0., ..., 0., 0., 0.]], shape=(56000, 10))"
      ]
     },
     "execution_count": 11,
     "metadata": {},
     "output_type": "execute_result"
    }
   ],
   "source": [
    "y_train"
   ]
  },
  {
   "cell_type": "code",
   "execution_count": 12,
   "id": "cb418ce0",
   "metadata": {},
   "outputs": [],
   "source": [
    "class CrossEntropy():\n",
    "  def __init__(self): pass\n",
    "\n",
    "  def loss(self, y, p):\n",
    "    p = np.clip(p, 1e-15, 1- 1e-15)\n",
    "    return -y*np.log(p) - (1 - y) * np.log(1- p)\n",
    "  \n",
    "  def gradient(self, y, p):\n",
    "    p = np.clip(p, 1e-15, 1- 1e-15)\n",
    "    return -(y/p) + (1 - y) / (1 - p)"
   ]
  },
  {
   "cell_type": "code",
   "execution_count": 13,
   "id": "8b3f3298",
   "metadata": {},
   "outputs": [],
   "source": [
    "class LeakyRELU():\n",
    "    def __init__(self,alpha=0.2):\n",
    "        self.alpha = alpha\n",
    "\n",
    "    def __call__(self,x):\n",
    "        return self.forward(x)\n",
    "\n",
    "    def forward(self,x):\n",
    "        return np.where(x>=0,x,self.alpha*x)\n",
    "    \n",
    "    def backward(self,x):\n",
    "        return np.where(x>=0,1,self.alpha)"
   ]
  },
  {
   "cell_type": "code",
   "execution_count": 14,
   "id": "ef755649",
   "metadata": {},
   "outputs": [],
   "source": [
    "class CrossEntropy:\n",
    "    def __init__(self):\n",
    "        pass\n",
    "\n",
    "    def loss(self, y_true, y_pred):\n",
    "        y_pred = np.clip(y_pred, 1e-15, 1 - 1e-15)\n",
    "        return -np.sum(y_true * np.log(y_pred), axis=-1)\n",
    "\n",
    "    def gradient(self, y_true, y_pred):\n",
    "        return y_pred - y_true"
   ]
  },
  {
   "cell_type": "code",
   "execution_count": 15,
   "id": "772f1348",
   "metadata": {},
   "outputs": [],
   "source": [
    "class Softmax:\n",
    "    def __init__(self):\n",
    "        pass\n",
    "\n",
    "    def __call__(self, x):\n",
    "        return self.forward(x)\n",
    "\n",
    "    def forward(self, x):\n",
    "        exp_x = np.exp(x - np.max(x, axis=-1, keepdims=True))\n",
    "        return exp_x / np.sum(exp_x, axis=-1, keepdims=True)\n",
    "\n",
    "    def backward(self, x):\n",
    "        s = self.forward(x)\n",
    "        return s * (1 - s)"
   ]
  },
  {
   "cell_type": "code",
   "execution_count": 16,
   "id": "92c3417b",
   "metadata": {},
   "outputs": [],
   "source": [
    "class Activation():\n",
    "    def __init__(self,activation,name=\"activation\"):\n",
    "        self.activation = activation\n",
    "        self.gradient = activation.backward\n",
    "        self.input = None\n",
    "        self.output = None\n",
    "\n",
    "    def forward(self,x):\n",
    "        self.input = x \n",
    "        self.output = self.activation(x)\n",
    "        return self.output\n",
    "    \n",
    "    def backward(self,grad_flow):\n",
    "        return self.gradient(self.input)*grad_flow\n",
    "    \n",
    "    def __call__(self, x):\n",
    "        return self.forward(x)\n"
   ]
  },
  {
   "cell_type": "code",
   "execution_count": 37,
   "id": "4c428098",
   "metadata": {},
   "outputs": [],
   "source": [
    "class Dropout:\n",
    "    def __init__(self,dropout_rate):\n",
    "        self.dropout_rate = dropout_rate\n",
    "        self.training = True\n",
    "        self.mask = None\n",
    "\n",
    "    def __call__(self, x):\n",
    "        if(self.training):\n",
    "            self.mask = (np.random.rand(*x.shape) > self.dropout_rate).astype(np.float32)\n",
    "            return x * self.mask / ( 1.0 - self.dropout_rate)\n",
    "        else:\n",
    "            return x\n",
    "        \n",
    "    def backward(self,grad_output):\n",
    "        if self.training:\n",
    "            return grad_output * self.mask / (1.0 - self.dropout_rate)\n",
    "        else:\n",
    "            return grad_output"
   ]
  },
  {
   "cell_type": "code",
   "execution_count": 38,
   "id": "82db5a71",
   "metadata": {},
   "outputs": [],
   "source": [
    "class Layer():\n",
    "\n",
    "    def __init__(self, n_in, n_out, name=\"linear\"):\n",
    "        n = 1 / np.sqrt(n_in)\n",
    "        # init weights\n",
    "        self.weights = np.random.uniform(-n, n, size=(n_in, n_out))\n",
    "        self.bias = np.zeros((1, n_out))\n",
    "        self.input = None\n",
    "        self.output = None\n",
    "\n",
    "    def forward(self, x):\n",
    "        self.input = x\n",
    "        output = np.dot(x, self.weights) + self.bias\n",
    "        self.output = output\n",
    "        return output\n",
    "\n",
    "    def backward(self, grad_flow, learning_rate=0.01):\n",
    "        # grad_flow: (batch_size, n_out)\n",
    "        input_error = np.dot(grad_flow, self.weights.T)  # (batch_size, n_in)\n",
    "        delta_W = np.dot(self.input.T, grad_flow)        # (n_in, n_out)\n",
    "\n",
    "        self.weights -= learning_rate * delta_W\n",
    "        self.bias -= learning_rate * np.mean(grad_flow, axis=0, keepdims=True)\n",
    "\n",
    "        return input_error\n",
    "\n",
    "    def __call__(self, x):\n",
    "        return self.forward(x)\n"
   ]
  },
  {
   "cell_type": "code",
   "execution_count": 45,
   "id": "c1187119",
   "metadata": {},
   "outputs": [],
   "source": [
    "class MLP():\n",
    "    def __init__(self,input_dim,output_dim,dropout_rate):\n",
    "        self.input_dim = input_dim\n",
    "        self.output_dim = output_dim\n",
    "        self.layers = [\n",
    "            Layer(input_dim,256,\"input\"),\n",
    "            Activation(LeakyRELU(),name=\"input\"),\n",
    "            Dropout(dropout_rate=dropout_rate),\n",
    "\n",
    "            Layer(256,128,name=\"input\"),\n",
    "            Activation(LeakyRELU(),name=\"input\"),\n",
    "            Dropout(dropout_rate=dropout_rate),\n",
    "\n",
    "            Layer(128,64,name=\"input\"),\n",
    "            Activation(LeakyRELU(),name=\"input\"),\n",
    "            Dropout(dropout_rate=dropout_rate),\n",
    "            \n",
    "            Layer(64,10,name=\"input\"),\n",
    "            Activation(Softmax(),name=\"output\")\n",
    "        ]\n",
    "\n",
    "        self.lr = 0.01\n",
    "\n",
    "    def forward(self,x):\n",
    "        for layer in self.layers:\n",
    "            x = layer(x)\n",
    "\n",
    "        return x\n",
    "    \n",
    "    def backward(self,grad_flow):\n",
    "        for layer in reversed(self.layers):\n",
    "            grad_flow = layer.backward(grad_flow)\n",
    "\n",
    "    def train(self, mode=True):\n",
    "        for layer in self.layers:\n",
    "            if hasattr(layer, 'training'):\n",
    "                layer.training = mode\n",
    "\n",
    "    def __call__(self, x):\n",
    "        return self.forward(x)"
   ]
  },
  {
   "cell_type": "code",
   "execution_count": 46,
   "id": "5835149f",
   "metadata": {},
   "outputs": [],
   "source": [
    "model = MLP(784,10,dropout_rate = 0.1)\n",
    "criterian = CrossEntropy()\n",
    "\n",
    "model.train(mode=True)"
   ]
  },
  {
   "cell_type": "code",
   "execution_count": 41,
   "id": "be4bf691",
   "metadata": {},
   "outputs": [],
   "source": [
    "def accuracy(y_true, y_pred):\n",
    "    return np.mean(np.argmax(y_true, axis=1) == np.argmax(y_pred, axis=1))"
   ]
  },
  {
   "cell_type": "code",
   "execution_count": 49,
   "id": "5ecde71e",
   "metadata": {},
   "outputs": [
    {
     "name": "stdout",
     "output_type": "stream",
     "text": [
      "Epoch 1, Loss: 0.04764431857474081, Acc: 0.9872678571428571\n",
      "Epoch 2, Loss: 0.04585108347296649, Acc: 0.988\n",
      "Epoch 3, Loss: 0.04354989461555127, Acc: 0.9889642857142857\n",
      "Epoch 4, Loss: 0.043605834290940754, Acc: 0.9882678571428571\n",
      "Epoch 5, Loss: 0.04136724332056346, Acc: 0.9893035714285714\n",
      "Epoch 6, Loss: 0.040310807511487044, Acc: 0.9894821428571429\n",
      "Epoch 7, Loss: 0.042287231157435747, Acc: 0.9891964285714285\n",
      "Epoch 8, Loss: 0.039254560627530674, Acc: 0.9895178571428571\n",
      "Epoch 9, Loss: 0.0398987827088587, Acc: 0.9898928571428571\n",
      "Epoch 10, Loss: 0.03681191937504354, Acc: 0.9906607142857143\n"
     ]
    }
   ],
   "source": [
    "for epoch in range(10):\n",
    "  loss = []\n",
    "  acc = []\n",
    "  for x_batch, y_batch in load_batch(X_train, y_train):\n",
    "    out = model(x_batch) # Forward pass\n",
    "    loss.append(np.mean(criterian.loss(y_batch, out))) # Loss - for display\n",
    "    # We just passed the inputs incorrectly.\n",
    "    acc.append(accuracy(y_batch, out))\n",
    "    error = criterian.gradient(y_batch, out) # Calculate gradient of loss\n",
    "    model.backward(error) # Backpropagation\n",
    "  \n",
    "  print(f\"Epoch {epoch + 1}, Loss: {np.mean(loss)}, Acc: {np.mean(acc)}\")"
   ]
  },
  {
   "cell_type": "code",
   "execution_count": null,
   "id": "1aa686ef",
   "metadata": {},
   "outputs": [
    {
     "name": "stdout",
     "output_type": "stream",
     "text": [
      "X_test shape: (14000, 784)\n"
     ]
    }
   ],
   "source": []
  },
  {
   "cell_type": "code",
   "execution_count": null,
   "id": "451e7675",
   "metadata": {},
   "outputs": [],
   "source": []
  },
  {
   "cell_type": "code",
   "execution_count": null,
   "id": "bcab0e58",
   "metadata": {},
   "outputs": [
    {
     "name": "stdout",
     "output_type": "stream",
     "text": [
      "Epoch 1, Loss: 0.7800219681735377, Acc: 0.7562857142857143\n",
      "Epoch 2, Loss: 0.2210455708121314, Acc: 0.9383571428571429\n",
      "Epoch 3, Loss: 0.15388059018723596, Acc: 0.9574464285714286\n",
      "Epoch 4, Loss: 0.1229797052552209, Acc: 0.9670357142857143\n",
      "Epoch 5, Loss: 0.10356814135585371, Acc: 0.9733571428571428\n",
      "Epoch 6, Loss: 0.08878785984205777, Acc: 0.9775714285714285\n",
      "Epoch 7, Loss: 0.07727036740633787, Acc: 0.9810892857142857\n",
      "Epoch 8, Loss: 0.06851667633956798, Acc: 0.983625\n",
      "Epoch 9, Loss: 0.061969628189894384, Acc: 0.985875\n",
      "Epoch 10, Loss: 0.05699097083491795, Acc: 0.9869285714285714\n"
     ]
    }
   ],
   "source": []
  },
  {
   "cell_type": "code",
   "execution_count": 50,
   "id": "c4358501",
   "metadata": {},
   "outputs": [
    {
     "data": {
      "image/png": "[encoded data removed]",
      "text/plain": [
       "<Figure size 1000x400 with 10 Axes>"
      ]
     },
     "metadata": {},
     "output_type": "display_data"
    }
   ],
   "source": [
    "#plot predictions\n",
    "def plot_predictions(X, y, model, num_images=10):\n",
    "    plt.figure(figsize=(10, 4))\n",
    "    for i in range(num_images):\n",
    "        plt.subplot(2, 5, i + 1)\n",
    "        plt.imshow(X[i].reshape(28, 28), cmap='gray')\n",
    "        plt.title(f\"Pred: {np.argmax(model(X[i:i+1]))}, True: {np.argmax(y[i])}\")\n",
    "        plt.axis('off')\n",
    "    plt.tight_layout()\n",
    "    plt.show()\n",
    "plot_predictions(X_test, y_test, model, num_images=10)"
   ]
  },
  {
   "cell_type": "code",
   "execution_count": 51,
   "id": "dd115164",
   "metadata": {},
   "outputs": [],
   "source": [
    "test_accuracy = accuracy(y_test,model(X_test))"
   ]
  },
  {
   "cell_type": "code",
   "execution_count": 52,
   "id": "e5b3b10c",
   "metadata": {},
   "outputs": [
    {
     "data": {
      "text/plain": [
       "np.float64(0.9721428571428572)"
      ]
     },
     "execution_count": 52,
     "metadata": {},
     "output_type": "execute_result"
    }
   ],
   "source": [
    "test_accuracy"
   ]
  },
  {
   "cell_type": "code",
   "execution_count": 58,
   "id": "fceded13",
   "metadata": {},
   "outputs": [],
   "source": [
    "y = np.arange(len(loss))\n"
   ]
  },
  {
   "cell_type": "code",
   "execution_count": 59,
   "id": "b543b41e",
   "metadata": {},
   "outputs": [
    {
     "data": {
      "text/plain": [
       "array([  0,   1,   2,   3,   4,   5,   6,   7,   8,   9,  10,  11,  12,\n",
       "        13,  14,  15,  16,  17,  18,  19,  20,  21,  22,  23,  24,  25,\n",
       "        26,  27,  28,  29,  30,  31,  32,  33,  34,  35,  36,  37,  38,\n",
       "        39,  40,  41,  42,  43,  44,  45,  46,  47,  48,  49,  50,  51,\n",
       "        52,  53,  54,  55,  56,  57,  58,  59,  60,  61,  62,  63,  64,\n",
       "        65,  66,  67,  68,  69,  70,  71,  72,  73,  74,  75,  76,  77,\n",
       "        78,  79,  80,  81,  82,  83,  84,  85,  86,  87,  88,  89,  90,\n",
       "        91,  92,  93,  94,  95,  96,  97,  98,  99, 100, 101, 102, 103,\n",
       "       104, 105, 106, 107, 108, 109, 110, 111, 112, 113, 114, 115, 116,\n",
       "       117, 118, 119, 120, 121, 122, 123, 124, 125, 126, 127, 128, 129,\n",
       "       130, 131, 132, 133, 134, 135, 136, 137, 138, 139, 140, 141, 142,\n",
       "       143, 144, 145, 146, 147, 148, 149, 150, 151, 152, 153, 154, 155,\n",
       "       156, 157, 158, 159, 160, 161, 162, 163, 164, 165, 166, 167, 168,\n",
       "       169, 170, 171, 172, 173, 174, 175, 176, 177, 178, 179, 180, 181,\n",
       "       182, 183, 184, 185, 186, 187, 188, 189, 190, 191, 192, 193, 194,\n",
       "       195, 196, 197, 198, 199, 200, 201, 202, 203, 204, 205, 206, 207,\n",
       "       208, 209, 210, 211, 212, 213, 214, 215, 216, 217, 218, 219, 220,\n",
       "       221, 222, 223, 224, 225, 226, 227, 228, 229, 230, 231, 232, 233,\n",
       "       234, 235, 236, 237, 238, 239, 240, 241, 242, 243, 244, 245, 246,\n",
       "       247, 248, 249, 250, 251, 252, 253, 254, 255, 256, 257, 258, 259,\n",
       "       260, 261, 262, 263, 264, 265, 266, 267, 268, 269, 270, 271, 272,\n",
       "       273, 274, 275, 276, 277, 278, 279, 280, 281, 282, 283, 284, 285,\n",
       "       286, 287, 288, 289, 290, 291, 292, 293, 294, 295, 296, 297, 298,\n",
       "       299, 300, 301, 302, 303, 304, 305, 306, 307, 308, 309, 310, 311,\n",
       "       312, 313, 314, 315, 316, 317, 318, 319, 320, 321, 322, 323, 324,\n",
       "       325, 326, 327, 328, 329, 330, 331, 332, 333, 334, 335, 336, 337,\n",
       "       338, 339, 340, 341, 342, 343, 344, 345, 346, 347, 348, 349, 350,\n",
       "       351, 352, 353, 354, 355, 356, 357, 358, 359, 360, 361, 362, 363,\n",
       "       364, 365, 366, 367, 368, 369, 370, 371, 372, 373, 374, 375, 376,\n",
       "       377, 378, 379, 380, 381, 382, 383, 384, 385, 386, 387, 388, 389,\n",
       "       390, 391, 392, 393, 394, 395, 396, 397, 398, 399, 400, 401, 402,\n",
       "       403, 404, 405, 406, 407, 408, 409, 410, 411, 412, 413, 414, 415,\n",
       "       416, 417, 418, 419, 420, 421, 422, 423, 424, 425, 426, 427, 428,\n",
       "       429, 430, 431, 432, 433, 434, 435, 436, 437, 438, 439, 440, 441,\n",
       "       442, 443, 444, 445, 446, 447, 448, 449, 450, 451, 452, 453, 454,\n",
       "       455, 456, 457, 458, 459, 460, 461, 462, 463, 464, 465, 466, 467,\n",
       "       468, 469, 470, 471, 472, 473, 474, 475, 476, 477, 478, 479, 480,\n",
       "       481, 482, 483, 484, 485, 486, 487, 488, 489, 490, 491, 492, 493,\n",
       "       494, 495, 496, 497, 498, 499, 500, 501, 502, 503, 504, 505, 506,\n",
       "       507, 508, 509, 510, 511, 512, 513, 514, 515, 516, 517, 518, 519,\n",
       "       520, 521, 522, 523, 524, 525, 526, 527, 528, 529, 530, 531, 532,\n",
       "       533, 534, 535, 536, 537, 538, 539, 540, 541, 542, 543, 544, 545,\n",
       "       546, 547, 548, 549, 550, 551, 552, 553, 554, 555, 556, 557, 558,\n",
       "       559, 560, 561, 562, 563, 564, 565, 566, 567, 568, 569, 570, 571,\n",
       "       572, 573, 574, 575, 576, 577, 578, 579, 580, 581, 582, 583, 584,\n",
       "       585, 586, 587, 588, 589, 590, 591, 592, 593, 594, 595, 596, 597,\n",
       "       598, 599, 600, 601, 602, 603, 604, 605, 606, 607, 608, 609, 610,\n",
       "       611, 612, 613, 614, 615, 616, 617, 618, 619, 620, 621, 622, 623,\n",
       "       624, 625, 626, 627, 628, 629, 630, 631, 632, 633, 634, 635, 636,\n",
       "       637, 638, 639, 640, 641, 642, 643, 644, 645, 646, 647, 648, 649,\n",
       "       650, 651, 652, 653, 654, 655, 656, 657, 658, 659, 660, 661, 662,\n",
       "       663, 664, 665, 666, 667, 668, 669, 670, 671, 672, 673, 674, 675,\n",
       "       676, 677, 678, 679, 680, 681, 682, 683, 684, 685, 686, 687, 688,\n",
       "       689, 690, 691, 692, 693, 694, 695, 696, 697, 698, 699, 700, 701,\n",
       "       702, 703, 704, 705, 706, 707, 708, 709, 710, 711, 712, 713, 714,\n",
       "       715, 716, 717, 718, 719, 720, 721, 722, 723, 724, 725, 726, 727,\n",
       "       728, 729, 730, 731, 732, 733, 734, 735, 736, 737, 738, 739, 740,\n",
       "       741, 742, 743, 744, 745, 746, 747, 748, 749, 750, 751, 752, 753,\n",
       "       754, 755, 756, 757, 758, 759, 760, 761, 762, 763, 764, 765, 766,\n",
       "       767, 768, 769, 770, 771, 772, 773, 774, 775, 776, 777, 778, 779,\n",
       "       780, 781, 782, 783, 784, 785, 786, 787, 788, 789, 790, 791, 792,\n",
       "       793, 794, 795, 796, 797, 798, 799, 800, 801, 802, 803, 804, 805,\n",
       "       806, 807, 808, 809, 810, 811, 812, 813, 814, 815, 816, 817, 818,\n",
       "       819, 820, 821, 822, 823, 824, 825, 826, 827, 828, 829, 830, 831,\n",
       "       832, 833, 834, 835, 836, 837, 838, 839, 840, 841, 842, 843, 844,\n",
       "       845, 846, 847, 848, 849, 850, 851, 852, 853, 854, 855, 856, 857,\n",
       "       858, 859, 860, 861, 862, 863, 864, 865, 866, 867, 868, 869, 870,\n",
       "       871, 872, 873, 874])"
      ]
     },
     "execution_count": 59,
     "metadata": {},
     "output_type": "execute_result"
    }
   ],
   "source": [
    "y"
   ]
  },
  {
   "cell_type": "code",
   "execution_count": 65,
   "id": "5c92280b",
   "metadata": {},
   "outputs": [
    {
     "ename": "TypeError",
     "evalue": "'reversed' object is not reversible",
     "output_type": "error",
     "traceback": [
      "\u001b[31m---------------------------------------------------------------------------\u001b[39m",
      "\u001b[31mTypeError\u001b[39m                                 Traceback (most recent call last)",
      "\u001b[36mCell\u001b[39m\u001b[36m \u001b[39m\u001b[32mIn[65]\u001b[39m\u001b[32m, line 1\u001b[39m\n\u001b[32m----> \u001b[39m\u001b[32m1\u001b[39m y = \u001b[38;5;28;43mreversed\u001b[39;49m\u001b[43m(\u001b[49m\u001b[43my\u001b[49m\u001b[43m)\u001b[49m\n",
      "\u001b[31mTypeError\u001b[39m: 'reversed' object is not reversible"
     ]
    }
   ],
   "source": [
    "y = reversed(y)"
   ]
  },
  {
   "cell_type": "code",
   "execution_count": null,
   "id": "58088252",
   "metadata": {},
   "outputs": [
    {
     "data": {
      "text/plain": [
       "<reversed at 0x124cdb790>"
      ]
     },
     "execution_count": 66,
     "metadata": {},
     "output_type": "execute_result"
    }
   ],
   "source": []
  },
  {
   "cell_type": "code",
   "execution_count": null,
   "id": "72532d0b",
   "metadata": {},
   "outputs": [],
   "source": []
  }
 ],
 "metadata": {
  "kernelspec": {
   "display_name": ".venv",
   "language": "python",
   "name": "python3"
  },
  "language_info": {
   "codemirror_mode": {
    "name": "ipython",
    "version": 3
   },
   "file_extension": ".py",
   "mimetype": "text/x-python",
   "name": "python",
   "nbconvert_exporter": "python",
   "pygments_lexer": "ipython3",
   "version": "3.12.7"
  }
 },
 "nbformat": 4,
 "nbformat_minor": 5
}
